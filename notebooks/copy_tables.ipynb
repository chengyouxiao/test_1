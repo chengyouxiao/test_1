{
 "cells": [
  {
   "cell_type": "code",
   "execution_count": 7,
   "metadata": {},
   "outputs": [],
   "source": [
    "from lib import rms_db\n",
    "import pandas as pd"
   ]
  },
  {
   "cell_type": "markdown",
   "metadata": {},
   "source": [
    "### 1. help_region_lu"
   ]
  },
  {
   "cell_type": "code",
   "execution_count": 8,
   "metadata": {},
   "outputs": [],
   "source": [
    "rms_db.select(\"\"\"\n",
    "    with a as (\n",
    "            select ROW_NUMBER() over(order by DC_KEY, INV_KEY, BI_KEY) as region_id,\n",
    "                DC_KEY, INV_KEY, a.BI_KEY\n",
    "            from \n",
    "                (select distinct DC_KEY, INV_KEY, BI_KEY from huvgeous) a \n",
    "        ),\n",
    "        b as (\n",
    "            select ROW_NUMBER() over(order by BI_KEY) as bi, BI_KEY\n",
    "            from \n",
    "                (select distinct BI_KEY from huvgeous) a        \n",
    "        )\n",
    "    select a.region_id + b.bi * 256, a.DC_KEY, a.INV_KEY, a.BI_KEY, b.bi\n",
    "    from a join b on a.BI_KEY = b.BI_KEY\"\"\").to_csv('working/help_region_lu.csv', index=False, header=True)"
   ]
  },
  {
   "cell_type": "markdown",
   "metadata": {},
   "source": [
    "### 2.help_occ_lu"
   ]
  },
  {
   "cell_type": "code",
   "execution_count": 21,
   "metadata": {},
   "outputs": [],
   "source": [
    "rms_db.select(\"\"\"\n",
    "    select a.occ_id + b.bi* 256 as occ_id, a.INV_OCC, a.BI_OCC, b.bi as BI_OCC_idx\n",
    "    from (\n",
    "        select ROW_NUMBER() over(order by BI_OCC,INV_OCC) as occ_id, INV_OCC, BI_OCC\n",
    "        from (\n",
    "            select distinct INV_OCC, BI_OCC from huvoccus\n",
    "        ) a\n",
    "    )a\n",
    "    join (\n",
    "        select ROW_NUMBER() over(order by BI_OCC) as bi, BI_OCC\n",
    "        from (select distinct BI_OCC from huvoccus) a\n",
    "    ) b on a.BI_OCC= b.BI_OCC\"\"\").to_csv('working/help_occ_lu.csv', index=False, header=True)"
   ]
  },
  {
   "cell_type": "markdown",
   "metadata": {},
   "source": [
    "### 3. help_cc_lu"
   ]
  },
  {
   "cell_type": "code",
   "execution_count": 12,
   "metadata": {},
   "outputs": [],
   "source": [
    "df =pd.DataFrame()\n",
    "for cc in [\"MAPCCLSSIF\", \"MAPCCTIER1\", \"MAPCCTIER2\", \"MAPCCTIER3\"]:\n",
    "    df1  = rms_db.select(f\"\"\"\n",
    "        select '{cc}' as cc_field, {cc} as cc_value, ROW_NUMBER() over(order by {cc}) as cc_code\n",
    "        from (select distinct {cc} from huvccus where {cc} is not null) a\"\"\")\n",
    "    df = pd.concat([df, df1], axis=0)\n",
    "\n",
    "df.to_csv('working/help_cc_lu.csv', index=False, header=True)"
   ]
  },
  {
   "cell_type": "markdown",
   "metadata": {},
   "source": [
    "### 4. pos_sm_option"
   ]
  },
  {
   "cell_type": "code",
   "execution_count": 17,
   "metadata": {},
   "outputs": [],
   "source": [
    "rms_db.select(\"\"\"\n",
    "    select b.fid * 256 + option_num as sm_opt_id, \n",
    "        case when a.modif_num = 4 then 'RMS_Roof_Covering'\n",
    "            when a.modif_num = 6 then 'RMS_Roof_Age_and_Condition'\n",
    "            when a.modif_num = 7 then 'RMS_Roof_Geometry'\n",
    "            when a.modif_num = 9 then 'RMS_Roof_Anchors'\n",
    "            when a.modif_num = 13 then 'RMS_Cladding_Type'\n",
    "            when a.modif_num = 14 then 'RMS_Roof_Sheathing_Attachment'\n",
    "            when a.modif_num = 19 then 'RMS_Opening_Protection'\n",
    "            else NULL\n",
    "        end feature_name,\n",
    "        a.modif_num, b.modif_desc, option_num, opt_desc\n",
    "    from huodscus a\n",
    "    join (\n",
    "        select ROW_NUMBER() over (order by modif_num) as fid, modif_num, modif_desc\n",
    "        from (\n",
    "              select distinct modif_num, modif_desc from humdscus) a\n",
    "            ) b on a.modif_num =b.modif_num\n",
    "    order by fid, option_num\"\"\").to_csv('working/pos_sm_option.csv', index=False, header=True)\n",
    "\n"
   ]
  }
 ],
 "metadata": {
  "kernelspec": {
   "display_name": "try-rl-tIZctUdd-py3.12",
   "language": "python",
   "name": "python3"
  },
  "language_info": {
   "codemirror_mode": {
    "name": "ipython",
    "version": 3
   },
   "file_extension": ".py",
   "mimetype": "text/x-python",
   "name": "python",
   "nbconvert_exporter": "python",
   "pygments_lexer": "ipython3",
   "version": "3.12.3"
  }
 },
 "nbformat": 4,
 "nbformat_minor": 2
}
